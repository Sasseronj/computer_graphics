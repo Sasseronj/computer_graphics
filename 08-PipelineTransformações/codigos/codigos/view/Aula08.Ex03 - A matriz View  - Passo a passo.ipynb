{
 "cells": [
  {
   "cell_type": "markdown",
   "metadata": {},
   "source": [
    "# Aula08.Ex03 - A matriz View - Passo a passo"
   ]
  },
  {
   "cell_type": "markdown",
   "metadata": {},
   "source": [
    "### Primeiro, vamos importar as bibliotecas necessárias.\n",
    "Verifique no código anterior um script para instalar as dependências necessárias (OpenGL e GLFW) antes de prosseguir."
   ]
  },
  {
   "cell_type": "code",
   "execution_count": 1,
   "metadata": {},
   "outputs": [],
   "source": [
    "import numpy as np\n",
    "import glm # !pip install pyglm\n",
    "import math"
   ]
  },
  {
   "cell_type": "markdown",
   "metadata": {},
   "source": [
    "## Calculando Matriz View"
   ]
  },
  {
   "cell_type": "code",
   "execution_count": 2,
   "metadata": {},
   "outputs": [
    {
     "data": {
      "text/plain": [
       "array([0.4472136 , 0.        , 0.89442719])"
      ]
     },
     "execution_count": 2,
     "metadata": {},
     "output_type": "execute_result"
    }
   ],
   "source": [
    "cameraPos = np.array([1, 0.0, 2.0]) #posicao da camera\n",
    "pontoFocal = np.array([0.0, 0.0, 0.0]) #para onde ela está olhando (origem do espaço mundo)\n",
    "cameraUp = np.array([0.0, 1.0, 0.0]) #vetor que aponta para cima da câmera (y = 1)\n",
    "\n",
    "Zc = cameraPos-pontoFocal\n",
    "Zc = Zc / np.linalg.norm(Zc) #normaliza, i.e., obtem vetor unitário (módulo = 1)\n",
    "Zc #vetor unitário que representa o eixo Z da camera"
   ]
  },
  {
   "cell_type": "code",
   "execution_count": 3,
   "metadata": {},
   "outputs": [
    {
     "data": {
      "text/plain": [
       "array([ 0.89442719,  0.        , -0.4472136 ])"
      ]
     },
     "execution_count": 3,
     "metadata": {},
     "output_type": "execute_result"
    }
   ],
   "source": [
    "Xc = np.cross(cameraUp, Zc)\n",
    "Xc = Xc / np.linalg.norm(Xc)\n",
    "Xc"
   ]
  },
  {
   "cell_type": "code",
   "execution_count": 4,
   "metadata": {},
   "outputs": [
    {
     "data": {
      "text/plain": [
       "array([-0.,  1.,  0.])"
      ]
     },
     "execution_count": 4,
     "metadata": {},
     "output_type": "execute_result"
    }
   ],
   "source": [
    "Yc = np.cross(Zc, Xc)\n",
    "Yc"
   ]
  },
  {
   "cell_type": "code",
   "execution_count": 5,
   "metadata": {},
   "outputs": [
    {
     "data": {
      "text/plain": [
       "array([[ 0.89442719,  0.        , -0.4472136 ,  0.        ],\n",
       "       [ 0.        ,  1.        ,  0.        ,  0.        ],\n",
       "       [ 0.4472136 ,  0.        ,  0.89442719, -2.23606798],\n",
       "       [ 0.        ,  0.        ,  0.        ,  1.        ]])"
      ]
     },
     "execution_count": 5,
     "metadata": {},
     "output_type": "execute_result"
    }
   ],
   "source": [
    "R = [\n",
    "        [Xc[0], Xc[1], Xc[2], 0.0],\n",
    "        [Yc[0], Yc[1], Yc[2], 0.0],\n",
    "        [Zc[0], Zc[1], Zc[2], 0.0],\n",
    "        [ 0.0,  0.0,  0.0, 1.0]\n",
    "    ]\n",
    "\n",
    "T = [\n",
    "        [1.0, 0.0, 0.0, -cameraPos[0]],\n",
    "        [0.0, 1.0, 0.0, -cameraPos[1]],\n",
    "        [0.0, 0.0, 1.0, -cameraPos[2]],\n",
    "        [0.0, 0.0, 0.0, 1.0          ],        \n",
    "    ]\n",
    "\n",
    "view = np.matmul(R,T)\n",
    "view"
   ]
  },
  {
   "cell_type": "markdown",
   "metadata": {},
   "source": [
    "## Calculando Matriz View com GLM"
   ]
  },
  {
   "cell_type": "code",
   "execution_count": 6,
   "metadata": {},
   "outputs": [
    {
     "data": {
      "text/plain": [
       "array([[ 0.8944273 ,  0.        , -0.44721365, -0.        ],\n",
       "       [ 0.        ,  1.0000001 ,  0.        , -0.        ],\n",
       "       [ 0.4472136 , -0.        ,  0.8944272 , -2.236068  ],\n",
       "       [ 0.        ,  0.        ,  0.        ,  1.        ]],\n",
       "      dtype=float32)"
      ]
     },
     "execution_count": 6,
     "metadata": {},
     "output_type": "execute_result"
    }
   ],
   "source": [
    "cameraPos = glm.vec3(1, 0.0, 2.0)\n",
    "pontoFocal = glm.vec3(0.0, 0.0, 0.0)\n",
    "cameraUp = glm.vec3(0.0, 1.0, 0.0)\n",
    "\n",
    "view = glm.lookAt(cameraPos, pontoFocal, cameraUp)\n",
    "np.array(view)"
   ]
  },
  {
   "cell_type": "code",
   "execution_count": null,
   "metadata": {},
   "outputs": [],
   "source": []
  }
 ],
 "metadata": {
  "finalized": {
   "timestamp": 1583114796072,
   "trusted": true
  },
  "kernelspec": {
   "display_name": "Python 3 (ipykernel)",
   "language": "python",
   "name": "python3"
  },
  "language_info": {
   "codemirror_mode": {
    "name": "ipython",
    "version": 3
   },
   "file_extension": ".py",
   "mimetype": "text/x-python",
   "name": "python",
   "nbconvert_exporter": "python",
   "pygments_lexer": "ipython3",
   "version": "3.12.4"
  }
 },
 "nbformat": 4,
 "nbformat_minor": 4
}
