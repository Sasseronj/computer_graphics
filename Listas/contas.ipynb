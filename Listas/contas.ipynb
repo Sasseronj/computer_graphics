{
 "cells": [
  {
   "cell_type": "code",
   "execution_count": null,
   "metadata": {},
   "outputs": [],
   "source": [
    "import numpy as np"
   ]
  },
  {
   "cell_type": "code",
   "execution_count": 14,
   "metadata": {},
   "outputs": [],
   "source": [
    "m1 = np.array([\n",
    "        [2, 0, 0],\n",
    "        [0, 2, 0],\n",
    "        [0, 0, 1]\n",
    "    ])\n",
    "\n",
    "m2 = np.array([\n",
    "        [1, 0, -1],\n",
    "        [0, 1, 1],\n",
    "        [0, 0, 1]\n",
    "    ])\n"
   ]
  },
  {
   "cell_type": "code",
   "execution_count": 15,
   "metadata": {},
   "outputs": [
    {
     "name": "stdout",
     "output_type": "stream",
     "text": [
      "[[ 2  0 -2]\n",
      " [ 0  2  2]\n",
      " [ 0  0  1]]\n",
      "[[ 2  0 -1]\n",
      " [ 0  2  1]\n",
      " [ 0  0  1]]\n",
      "[[ True  True False]\n",
      " [ True  True False]\n",
      " [ True  True  True]]\n"
     ]
    }
   ],
   "source": [
    "print(m1 @ m2)\n",
    "print(m2 @ m1)\n",
    "print(m2 @ m1 == m1 @ m2)"
   ]
  },
  {
   "cell_type": "code",
   "execution_count": 1,
   "metadata": {},
   "outputs": [],
   "source": [
    "import numpy as np\n",
    "\n",
    "s = 0.091\n",
    "c = 0.4541\n",
    "x = -6.302\n",
    "y = 2.4676\n",
    "\n",
    "# Criar a matriz de rotação em coordenadas homogêneas\n",
    "R = np.array([\n",
    "    [c, -s, 0],\n",
    "    [s,  c, 0],\n",
    "    [0,                0,                1]\n",
    "])\n",
    "\n",
    "T = np.array([\n",
    "    [1, 0, x],\n",
    "    [0, 1, y],\n",
    "    [0, 0, 1]\n",
    "])\n",
    "\n",
    "p = np.array([\n",
    "    [8],\n",
    "    [6],\n",
    "    [1]               \n",
    "])"
   ]
  },
  {
   "cell_type": "code",
   "execution_count": 3,
   "metadata": {},
   "outputs": [],
   "source": [
    "res = R @ T @ p"
   ]
  },
  {
   "cell_type": "code",
   "execution_count": 5,
   "metadata": {},
   "outputs": [
    {
     "data": {
      "text/plain": [
       "array([[5.10200000e-04],\n",
       "       [3.99965516e+00],\n",
       "       [1.00000000e+00]])"
      ]
     },
     "execution_count": 5,
     "metadata": {},
     "output_type": "execute_result"
    }
   ],
   "source": [
    "res"
   ]
  },
  {
   "cell_type": "code",
   "execution_count": 8,
   "metadata": {},
   "outputs": [
    {
     "name": "stdout",
     "output_type": "stream",
     "text": [
      "0.0 4.0\n"
     ]
    }
   ],
   "source": [
    "print(round(res[0][0], 0), round(res[1][0], 0))"
   ]
  },
  {
   "cell_type": "code",
   "execution_count": 5,
   "metadata": {},
   "outputs": [],
   "source": [
    "import numpy as np\n",
    "\n",
    "T = np.array([\n",
    "    [1, 0,  0],\n",
    "    [0, 1, -8],\n",
    "    [0, 0, 1]\n",
    "])\n",
    "\n",
    "p = np.array([\n",
    "    [27],\n",
    "    [4],\n",
    "    [1]               \n",
    "])"
   ]
  },
  {
   "cell_type": "code",
   "execution_count": 6,
   "metadata": {},
   "outputs": [
    {
     "data": {
      "text/plain": [
       "array([[27],\n",
       "       [-4],\n",
       "       [ 1]])"
      ]
     },
     "execution_count": 6,
     "metadata": {},
     "output_type": "execute_result"
    }
   ],
   "source": [
    "T @ p"
   ]
  },
  {
   "cell_type": "code",
   "execution_count": null,
   "metadata": {},
   "outputs": [],
   "source": []
  }
 ],
 "metadata": {
  "kernelspec": {
   "display_name": "Python 3",
   "language": "python",
   "name": "python3"
  },
  "language_info": {
   "codemirror_mode": {
    "name": "ipython",
    "version": 3
   },
   "file_extension": ".py",
   "mimetype": "text/x-python",
   "name": "python",
   "nbconvert_exporter": "python",
   "pygments_lexer": "ipython3",
   "version": "3.10.12"
  }
 },
 "nbformat": 4,
 "nbformat_minor": 2
}
